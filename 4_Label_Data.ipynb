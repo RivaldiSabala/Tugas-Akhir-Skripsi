{
  "cells": [
    {
      "cell_type": "markdown",
      "metadata": {
        "id": "3BYzcCJHamF0"
      },
      "source": [
        "# **Proses Label dengan Indonesia Sentiment Lexicon**"
      ]
    },
    {
      "cell_type": "code",
      "execution_count": null,
      "metadata": {
        "id": "TzB3fJbZvrja",
        "colab": {
          "base_uri": "https://localhost:8080/"
        },
        "outputId": "d76e8706-7021-4d1c-bfed-285ebb3c7ae1"
      },
      "outputs": [
        {
          "output_type": "stream",
          "name": "stdout",
          "text": [
            "Drive already mounted at /content/drive; to attempt to forcibly remount, call drive.mount(\"/content/drive\", force_remount=True).\n"
          ]
        }
      ],
      "source": [
        "from google.colab import drive\n",
        "drive.mount('/content/drive')"
      ]
    },
    {
      "cell_type": "code",
      "execution_count": null,
      "metadata": {
        "id": "w2oKf1f-V088"
      },
      "outputs": [],
      "source": [
        "import pandas as pd"
      ]
    },
    {
      "cell_type": "code",
      "execution_count": null,
      "metadata": {
        "colab": {
          "base_uri": "https://localhost:8080/"
        },
        "id": "40D7m6h9Wrfz",
        "outputId": "86f05852-6e0d-462f-c522-8c9b8afae908"
      },
      "outputs": [
        {
          "output_type": "stream",
          "name": "stdout",
          "text": [
            "Jumlah kata positif: 3610\n",
            "Jumlah kata negatif: 6608\n"
          ]
        }
      ],
      "source": [
        "# Path lengkap ke file di Google Drive\n",
        "pos_path = '/content/drive/MyDrive/TugasAkhir/positiff.tsv'\n",
        "neg_path = '/content/drive/MyDrive/TugasAkhir/negatiff.tsv'\n",
        "\n",
        "# Baca dan ubah ke set\n",
        "pos_lexicon = set(pd.read_csv(pos_path, sep=\"\\t\", header=None)[0].tolist())\n",
        "neg_lexicon = set(pd.read_csv(neg_path, sep=\"\\t\", header=None)[0].tolist())\n",
        "\n",
        "# Cek jumlah kata dalam lexicon\n",
        "print(f\"Jumlah kata positif: {len(pos_lexicon)}\")\n",
        "print(f\"Jumlah kata negatif: {len(neg_lexicon)}\")"
      ]
    },
    {
      "cell_type": "code",
      "execution_count": null,
      "metadata": {
        "colab": {
          "base_uri": "https://localhost:8080/",
          "height": 424
        },
        "id": "6zjrUoysW8Dg",
        "outputId": "31125305-e88d-4c91-c7bd-fda582586463"
      },
      "outputs": [
        {
          "output_type": "execute_result",
          "data": {
            "text/plain": [
              "                                       preprocessed_text\n",
              "0      profil dito ariotedjo menteri pemuda olahraga ...\n",
              "1      hari kerja ahy atas deret menteri citra menter...\n",
              "2      saksi menit sama kabinet merah putih utakatik ...\n",
              "3      presiden prabowo instruksi jajar kabinet merah...\n",
              "4      presiden ri prabowo subianto minta jajar kabin...\n",
              "...                                                  ...\n",
              "10224  menteri uang sri mulyani turut panggil preside...\n",
              "10225  presiden pilih prabowo subianto panggil deret ...\n",
              "10226  calon menteri undang diam prabowo hambalang ka...\n",
              "10227  mantan istri basuki tjahaja purnama ahok veron...\n",
              "10228  diskusi kabinet hanya prabowo sufmi dasco temu...\n",
              "\n",
              "[10229 rows x 1 columns]"
            ],
            "text/html": [
              "\n",
              "  <div id=\"df-8351fbb8-b390-43a2-bee6-9490ec7cbbc8\" class=\"colab-df-container\">\n",
              "    <div>\n",
              "<style scoped>\n",
              "    .dataframe tbody tr th:only-of-type {\n",
              "        vertical-align: middle;\n",
              "    }\n",
              "\n",
              "    .dataframe tbody tr th {\n",
              "        vertical-align: top;\n",
              "    }\n",
              "\n",
              "    .dataframe thead th {\n",
              "        text-align: right;\n",
              "    }\n",
              "</style>\n",
              "<table border=\"1\" class=\"dataframe\">\n",
              "  <thead>\n",
              "    <tr style=\"text-align: right;\">\n",
              "      <th></th>\n",
              "      <th>preprocessed_text</th>\n",
              "    </tr>\n",
              "  </thead>\n",
              "  <tbody>\n",
              "    <tr>\n",
              "      <th>0</th>\n",
              "      <td>profil dito ariotedjo menteri pemuda olahraga ...</td>\n",
              "    </tr>\n",
              "    <tr>\n",
              "      <th>1</th>\n",
              "      <td>hari kerja ahy atas deret menteri citra menter...</td>\n",
              "    </tr>\n",
              "    <tr>\n",
              "      <th>2</th>\n",
              "      <td>saksi menit sama kabinet merah putih utakatik ...</td>\n",
              "    </tr>\n",
              "    <tr>\n",
              "      <th>3</th>\n",
              "      <td>presiden prabowo instruksi jajar kabinet merah...</td>\n",
              "    </tr>\n",
              "    <tr>\n",
              "      <th>4</th>\n",
              "      <td>presiden ri prabowo subianto minta jajar kabin...</td>\n",
              "    </tr>\n",
              "    <tr>\n",
              "      <th>...</th>\n",
              "      <td>...</td>\n",
              "    </tr>\n",
              "    <tr>\n",
              "      <th>10224</th>\n",
              "      <td>menteri uang sri mulyani turut panggil preside...</td>\n",
              "    </tr>\n",
              "    <tr>\n",
              "      <th>10225</th>\n",
              "      <td>presiden pilih prabowo subianto panggil deret ...</td>\n",
              "    </tr>\n",
              "    <tr>\n",
              "      <th>10226</th>\n",
              "      <td>calon menteri undang diam prabowo hambalang ka...</td>\n",
              "    </tr>\n",
              "    <tr>\n",
              "      <th>10227</th>\n",
              "      <td>mantan istri basuki tjahaja purnama ahok veron...</td>\n",
              "    </tr>\n",
              "    <tr>\n",
              "      <th>10228</th>\n",
              "      <td>diskusi kabinet hanya prabowo sufmi dasco temu...</td>\n",
              "    </tr>\n",
              "  </tbody>\n",
              "</table>\n",
              "<p>10229 rows × 1 columns</p>\n",
              "</div>\n",
              "    <div class=\"colab-df-buttons\">\n",
              "\n",
              "  <div class=\"colab-df-container\">\n",
              "    <button class=\"colab-df-convert\" onclick=\"convertToInteractive('df-8351fbb8-b390-43a2-bee6-9490ec7cbbc8')\"\n",
              "            title=\"Convert this dataframe to an interactive table.\"\n",
              "            style=\"display:none;\">\n",
              "\n",
              "  <svg xmlns=\"http://www.w3.org/2000/svg\" height=\"24px\" viewBox=\"0 -960 960 960\">\n",
              "    <path d=\"M120-120v-720h720v720H120Zm60-500h600v-160H180v160Zm220 220h160v-160H400v160Zm0 220h160v-160H400v160ZM180-400h160v-160H180v160Zm440 0h160v-160H620v160ZM180-180h160v-160H180v160Zm440 0h160v-160H620v160Z\"/>\n",
              "  </svg>\n",
              "    </button>\n",
              "\n",
              "  <style>\n",
              "    .colab-df-container {\n",
              "      display:flex;\n",
              "      gap: 12px;\n",
              "    }\n",
              "\n",
              "    .colab-df-convert {\n",
              "      background-color: #E8F0FE;\n",
              "      border: none;\n",
              "      border-radius: 50%;\n",
              "      cursor: pointer;\n",
              "      display: none;\n",
              "      fill: #1967D2;\n",
              "      height: 32px;\n",
              "      padding: 0 0 0 0;\n",
              "      width: 32px;\n",
              "    }\n",
              "\n",
              "    .colab-df-convert:hover {\n",
              "      background-color: #E2EBFA;\n",
              "      box-shadow: 0px 1px 2px rgba(60, 64, 67, 0.3), 0px 1px 3px 1px rgba(60, 64, 67, 0.15);\n",
              "      fill: #174EA6;\n",
              "    }\n",
              "\n",
              "    .colab-df-buttons div {\n",
              "      margin-bottom: 4px;\n",
              "    }\n",
              "\n",
              "    [theme=dark] .colab-df-convert {\n",
              "      background-color: #3B4455;\n",
              "      fill: #D2E3FC;\n",
              "    }\n",
              "\n",
              "    [theme=dark] .colab-df-convert:hover {\n",
              "      background-color: #434B5C;\n",
              "      box-shadow: 0px 1px 3px 1px rgba(0, 0, 0, 0.15);\n",
              "      filter: drop-shadow(0px 1px 2px rgba(0, 0, 0, 0.3));\n",
              "      fill: #FFFFFF;\n",
              "    }\n",
              "  </style>\n",
              "\n",
              "    <script>\n",
              "      const buttonEl =\n",
              "        document.querySelector('#df-8351fbb8-b390-43a2-bee6-9490ec7cbbc8 button.colab-df-convert');\n",
              "      buttonEl.style.display =\n",
              "        google.colab.kernel.accessAllowed ? 'block' : 'none';\n",
              "\n",
              "      async function convertToInteractive(key) {\n",
              "        const element = document.querySelector('#df-8351fbb8-b390-43a2-bee6-9490ec7cbbc8');\n",
              "        const dataTable =\n",
              "          await google.colab.kernel.invokeFunction('convertToInteractive',\n",
              "                                                    [key], {});\n",
              "        if (!dataTable) return;\n",
              "\n",
              "        const docLinkHtml = 'Like what you see? Visit the ' +\n",
              "          '<a target=\"_blank\" href=https://colab.research.google.com/notebooks/data_table.ipynb>data table notebook</a>'\n",
              "          + ' to learn more about interactive tables.';\n",
              "        element.innerHTML = '';\n",
              "        dataTable['output_type'] = 'display_data';\n",
              "        await google.colab.output.renderOutput(dataTable, element);\n",
              "        const docLink = document.createElement('div');\n",
              "        docLink.innerHTML = docLinkHtml;\n",
              "        element.appendChild(docLink);\n",
              "      }\n",
              "    </script>\n",
              "  </div>\n",
              "\n",
              "\n",
              "    <div id=\"df-5059e285-19ba-4d6b-8f08-48dc03d88cb1\">\n",
              "      <button class=\"colab-df-quickchart\" onclick=\"quickchart('df-5059e285-19ba-4d6b-8f08-48dc03d88cb1')\"\n",
              "                title=\"Suggest charts\"\n",
              "                style=\"display:none;\">\n",
              "\n",
              "<svg xmlns=\"http://www.w3.org/2000/svg\" height=\"24px\"viewBox=\"0 0 24 24\"\n",
              "     width=\"24px\">\n",
              "    <g>\n",
              "        <path d=\"M19 3H5c-1.1 0-2 .9-2 2v14c0 1.1.9 2 2 2h14c1.1 0 2-.9 2-2V5c0-1.1-.9-2-2-2zM9 17H7v-7h2v7zm4 0h-2V7h2v10zm4 0h-2v-4h2v4z\"/>\n",
              "    </g>\n",
              "</svg>\n",
              "      </button>\n",
              "\n",
              "<style>\n",
              "  .colab-df-quickchart {\n",
              "      --bg-color: #E8F0FE;\n",
              "      --fill-color: #1967D2;\n",
              "      --hover-bg-color: #E2EBFA;\n",
              "      --hover-fill-color: #174EA6;\n",
              "      --disabled-fill-color: #AAA;\n",
              "      --disabled-bg-color: #DDD;\n",
              "  }\n",
              "\n",
              "  [theme=dark] .colab-df-quickchart {\n",
              "      --bg-color: #3B4455;\n",
              "      --fill-color: #D2E3FC;\n",
              "      --hover-bg-color: #434B5C;\n",
              "      --hover-fill-color: #FFFFFF;\n",
              "      --disabled-bg-color: #3B4455;\n",
              "      --disabled-fill-color: #666;\n",
              "  }\n",
              "\n",
              "  .colab-df-quickchart {\n",
              "    background-color: var(--bg-color);\n",
              "    border: none;\n",
              "    border-radius: 50%;\n",
              "    cursor: pointer;\n",
              "    display: none;\n",
              "    fill: var(--fill-color);\n",
              "    height: 32px;\n",
              "    padding: 0;\n",
              "    width: 32px;\n",
              "  }\n",
              "\n",
              "  .colab-df-quickchart:hover {\n",
              "    background-color: var(--hover-bg-color);\n",
              "    box-shadow: 0 1px 2px rgba(60, 64, 67, 0.3), 0 1px 3px 1px rgba(60, 64, 67, 0.15);\n",
              "    fill: var(--button-hover-fill-color);\n",
              "  }\n",
              "\n",
              "  .colab-df-quickchart-complete:disabled,\n",
              "  .colab-df-quickchart-complete:disabled:hover {\n",
              "    background-color: var(--disabled-bg-color);\n",
              "    fill: var(--disabled-fill-color);\n",
              "    box-shadow: none;\n",
              "  }\n",
              "\n",
              "  .colab-df-spinner {\n",
              "    border: 2px solid var(--fill-color);\n",
              "    border-color: transparent;\n",
              "    border-bottom-color: var(--fill-color);\n",
              "    animation:\n",
              "      spin 1s steps(1) infinite;\n",
              "  }\n",
              "\n",
              "  @keyframes spin {\n",
              "    0% {\n",
              "      border-color: transparent;\n",
              "      border-bottom-color: var(--fill-color);\n",
              "      border-left-color: var(--fill-color);\n",
              "    }\n",
              "    20% {\n",
              "      border-color: transparent;\n",
              "      border-left-color: var(--fill-color);\n",
              "      border-top-color: var(--fill-color);\n",
              "    }\n",
              "    30% {\n",
              "      border-color: transparent;\n",
              "      border-left-color: var(--fill-color);\n",
              "      border-top-color: var(--fill-color);\n",
              "      border-right-color: var(--fill-color);\n",
              "    }\n",
              "    40% {\n",
              "      border-color: transparent;\n",
              "      border-right-color: var(--fill-color);\n",
              "      border-top-color: var(--fill-color);\n",
              "    }\n",
              "    60% {\n",
              "      border-color: transparent;\n",
              "      border-right-color: var(--fill-color);\n",
              "    }\n",
              "    80% {\n",
              "      border-color: transparent;\n",
              "      border-right-color: var(--fill-color);\n",
              "      border-bottom-color: var(--fill-color);\n",
              "    }\n",
              "    90% {\n",
              "      border-color: transparent;\n",
              "      border-bottom-color: var(--fill-color);\n",
              "    }\n",
              "  }\n",
              "</style>\n",
              "\n",
              "      <script>\n",
              "        async function quickchart(key) {\n",
              "          const quickchartButtonEl =\n",
              "            document.querySelector('#' + key + ' button');\n",
              "          quickchartButtonEl.disabled = true;  // To prevent multiple clicks.\n",
              "          quickchartButtonEl.classList.add('colab-df-spinner');\n",
              "          try {\n",
              "            const charts = await google.colab.kernel.invokeFunction(\n",
              "                'suggestCharts', [key], {});\n",
              "          } catch (error) {\n",
              "            console.error('Error during call to suggestCharts:', error);\n",
              "          }\n",
              "          quickchartButtonEl.classList.remove('colab-df-spinner');\n",
              "          quickchartButtonEl.classList.add('colab-df-quickchart-complete');\n",
              "        }\n",
              "        (() => {\n",
              "          let quickchartButtonEl =\n",
              "            document.querySelector('#df-5059e285-19ba-4d6b-8f08-48dc03d88cb1 button');\n",
              "          quickchartButtonEl.style.display =\n",
              "            google.colab.kernel.accessAllowed ? 'block' : 'none';\n",
              "        })();\n",
              "      </script>\n",
              "    </div>\n",
              "\n",
              "  <div id=\"id_935c14cd-bb57-46c5-a226-9bfe8309f607\">\n",
              "    <style>\n",
              "      .colab-df-generate {\n",
              "        background-color: #E8F0FE;\n",
              "        border: none;\n",
              "        border-radius: 50%;\n",
              "        cursor: pointer;\n",
              "        display: none;\n",
              "        fill: #1967D2;\n",
              "        height: 32px;\n",
              "        padding: 0 0 0 0;\n",
              "        width: 32px;\n",
              "      }\n",
              "\n",
              "      .colab-df-generate:hover {\n",
              "        background-color: #E2EBFA;\n",
              "        box-shadow: 0px 1px 2px rgba(60, 64, 67, 0.3), 0px 1px 3px 1px rgba(60, 64, 67, 0.15);\n",
              "        fill: #174EA6;\n",
              "      }\n",
              "\n",
              "      [theme=dark] .colab-df-generate {\n",
              "        background-color: #3B4455;\n",
              "        fill: #D2E3FC;\n",
              "      }\n",
              "\n",
              "      [theme=dark] .colab-df-generate:hover {\n",
              "        background-color: #434B5C;\n",
              "        box-shadow: 0px 1px 3px 1px rgba(0, 0, 0, 0.15);\n",
              "        filter: drop-shadow(0px 1px 2px rgba(0, 0, 0, 0.3));\n",
              "        fill: #FFFFFF;\n",
              "      }\n",
              "    </style>\n",
              "    <button class=\"colab-df-generate\" onclick=\"generateWithVariable('df')\"\n",
              "            title=\"Generate code using this dataframe.\"\n",
              "            style=\"display:none;\">\n",
              "\n",
              "  <svg xmlns=\"http://www.w3.org/2000/svg\" height=\"24px\"viewBox=\"0 0 24 24\"\n",
              "       width=\"24px\">\n",
              "    <path d=\"M7,19H8.4L18.45,9,17,7.55,7,17.6ZM5,21V16.75L18.45,3.32a2,2,0,0,1,2.83,0l1.4,1.43a1.91,1.91,0,0,1,.58,1.4,1.91,1.91,0,0,1-.58,1.4L9.25,21ZM18.45,9,17,7.55Zm-12,3A5.31,5.31,0,0,0,4.9,8.1,5.31,5.31,0,0,0,1,6.5,5.31,5.31,0,0,0,4.9,4.9,5.31,5.31,0,0,0,6.5,1,5.31,5.31,0,0,0,8.1,4.9,5.31,5.31,0,0,0,12,6.5,5.46,5.46,0,0,0,6.5,12Z\"/>\n",
              "  </svg>\n",
              "    </button>\n",
              "    <script>\n",
              "      (() => {\n",
              "      const buttonEl =\n",
              "        document.querySelector('#id_935c14cd-bb57-46c5-a226-9bfe8309f607 button.colab-df-generate');\n",
              "      buttonEl.style.display =\n",
              "        google.colab.kernel.accessAllowed ? 'block' : 'none';\n",
              "\n",
              "      buttonEl.onclick = () => {\n",
              "        google.colab.notebook.generateWithVariable('df');\n",
              "      }\n",
              "      })();\n",
              "    </script>\n",
              "  </div>\n",
              "\n",
              "    </div>\n",
              "  </div>\n"
            ],
            "application/vnd.google.colaboratory.intrinsic+json": {
              "type": "dataframe",
              "variable_name": "df",
              "summary": "{\n  \"name\": \"df\",\n  \"rows\": 10229,\n  \"fields\": [\n    {\n      \"column\": \"preprocessed_text\",\n      \"properties\": {\n        \"dtype\": \"string\",\n        \"num_unique_values\": 8831,\n        \"samples\": [\n          \"kabinet merah putih fokus daya masyarakat miskinedebiemayain\",\n          \"presiden prabowo subianto resmi lantik kabinet merah putih senin luhut pandjaitan resmi jadi menteri ekonomi nasional jadi menteri koordinator bidang maritim investasi perintah joko widodo prabowo subianto resmi lantik kabinet merah putih senin luhut pandjaitan resmi jadi menteri ekonomi nasional jadi menteri koordinator bidang maritim investasi pemerin\",\n          \"susun kabinet merah putih perintah prabowo subiantogibran rakabuming raka umum jumlah tokoh wanita isi jabat menteri wakil menteri siapa\"\n        ],\n        \"semantic_type\": \"\",\n        \"description\": \"\"\n      }\n    }\n  ]\n}"
            }
          },
          "metadata": {},
          "execution_count": 48
        }
      ],
      "source": [
        "# Load dataset (Ganti dengan nama file dataset yang sudah diupload)\n",
        "file_path = '/content/drive/MyDrive/Tugas_Akhir/dataclear.csv'\n",
        "df = pd.read_csv(file_path)\n",
        "\n",
        "# Tampilkan beberapa baris pertama dari dataset\n",
        "df"
      ]
    },
    {
      "cell_type": "code",
      "execution_count": null,
      "metadata": {
        "id": "Cce80mu6XGwV"
      },
      "outputs": [],
      "source": [
        "def analyze_sentiment(text):\n",
        "    words = str(text).lower().split()  # Pastikan text dalam format string\n",
        "    pos_count = sum(1 for word in words if word in pos_lexicon)\n",
        "    neg_count = sum(1 for word in words if word in neg_lexicon)\n",
        "\n",
        "    # Menentukan label sentimen\n",
        "    if pos_count > neg_count:\n",
        "        return \"positive\" #Bisa ubah ke kata positif\n",
        "    elif neg_count > pos_count:\n",
        "        return \"negative\" #Bisa ubah ke kata negative\n",
        "    else:\n",
        "        return \"neutral\" #Bisa ubah ke kata netral"
      ]
    },
    {
      "cell_type": "code",
      "execution_count": null,
      "metadata": {
        "colab": {
          "base_uri": "https://localhost:8080/"
        },
        "id": "cT-F4TY7XrJL",
        "outputId": "c97175c4-4864-4592-9704-04e0ccc9eea5"
      },
      "outputs": [
        {
          "output_type": "stream",
          "name": "stdout",
          "text": [
            "                                    preprocessed_text     label\n",
            "0   profil dito ariotedjo menteri pemuda olahraga ...  negative\n",
            "1   hari kerja ahy atas deret menteri citra menter...   neutral\n",
            "2   saksi menit sama kabinet merah putih utakatik ...  negative\n",
            "3   presiden prabowo instruksi jajar kabinet merah...  negative\n",
            "4   presiden ri prabowo subianto minta jajar kabin...   neutral\n",
            "5   profil agus gumiwang kartasasmita menteri indu...  negative\n",
            "6   kpk apresiasi patuh lhkpn kabinet merah putih ...  positive\n",
            "7   presiden ri prabowo subianto beri arah kabinet...  negative\n",
            "8   menteri kabinet merah putih kerja buruk hari k...  negative\n",
            "9   utakatik strategi biaya haji menit sama kabine...  positive\n",
            "10  mulia mr mohon segera ganti wakil wakil rakyat...  negative\n",
            "11  prabowo lalu instruksi menteri kepala lembaga ...  negative\n",
            "12  hari kabinet merah putih mayoritas rakyat rasa...  negative\n",
            "13  komisi berantas korupsi kpk rilis lapor harta ...  positive\n",
            "14  daftar menteri kerja buruk hingga muncul isu r...  negative\n",
            "15  menteri pariwisata widiyanti putri wardhana ja...  negative\n",
            "16  isu reshuffle kabinet merah putih hari kerja p...  negative\n",
            "17  pesan emil salam prabowo minta kabinet merah p...  negative\n",
            "18  menteri kabinet merah putih kerja baik hari ke...   neutral\n",
            "19  presiden prabowo subianto titip pesan soal tel...  negative\n"
          ]
        }
      ],
      "source": [
        "# Terapkan fungsi untuk labeling sentimen pada kolom yang relevan\n",
        "df[\"label\"] = df[\"preprocessed_text\"].apply(analyze_sentiment)\n",
        "\n",
        "# Lihat beberapa hasil pertama\n",
        "print(df.head(20))"
      ]
    },
    {
      "cell_type": "code",
      "execution_count": null,
      "metadata": {
        "colab": {
          "base_uri": "https://localhost:8080/"
        },
        "id": "AE4grtXh1kGg",
        "outputId": "9f947453-55f4-481d-adbb-17dcb0058abd"
      },
      "outputs": [
        {
          "output_type": "stream",
          "name": "stdout",
          "text": [
            "Total data points with positive label: 3694\n",
            "Total data points with negative label: 5273\n",
            "Total data points with neutral label: 1262\n"
          ]
        }
      ],
      "source": [
        "positive_count = len(df[df['label'] == 'positive'])\n",
        "print(\"Total data points with positive label:\", positive_count)\n",
        "\n",
        "negative_count = len(df[df['label'] == 'negative'])\n",
        "print(\"Total data points with negative label:\", negative_count)\n",
        "\n",
        "neutral_count = len(df[df['label'] == 'neutral'])\n",
        "print(\"Total data points with neutral label:\", neutral_count)"
      ]
    },
    {
      "cell_type": "code",
      "execution_count": null,
      "metadata": {
        "id": "fCdymDXXaFx-"
      },
      "outputs": [],
      "source": [
        "# # Hapus kolom 'sentimen_' jika ada\n",
        "# if 'sentimen_' in df.columns:\n",
        "#     df = df.drop('sentimen_', axis=1)"
      ]
    },
    {
      "cell_type": "code",
      "execution_count": null,
      "metadata": {
        "colab": {
          "base_uri": "https://localhost:8080/"
        },
        "id": "W-FHLN55Y_ti",
        "outputId": "b5fd5469-47f8-4a12-9d59-130fb9b8228f"
      },
      "outputs": [
        {
          "output_type": "stream",
          "name": "stdout",
          "text": [
            "Labeling selesai! Hasil disimpan di /content/drive/MyDrive/File_TA_Fiks/Label_lexicon.csv\n"
          ]
        }
      ],
      "source": [
        "# Simpan ke file CSV baru\n",
        "output_path = \"/content/drive/MyDrive/File_TA_Fiks/Label_lexicon.csv\"\n",
        "df.to_csv(output_path, index=False)\n",
        "\n",
        "print(f\"Labeling selesai! Hasil disimpan di {output_path}\")"
      ]
    },
    {
      "cell_type": "code",
      "execution_count": null,
      "metadata": {
        "colab": {
          "base_uri": "https://localhost:8080/"
        },
        "id": "TAhzjLFWzvrD",
        "outputId": "33ba0007-5c00-4edd-ed59-0c1f709dc8c3"
      },
      "outputs": [
        {
          "output_type": "stream",
          "name": "stdout",
          "text": [
            "Label_lexicon.csv  positiff.tsv\t\t X_tfidf.npz\n",
            "negatiff.tsv\t   tfidf_vectorizer.pkl  y_tfidf.npy\n"
          ]
        }
      ],
      "source": [
        "# Cek isi folder untuk memastikan file tersimpan\n",
        "!ls \"/content/drive/MyDrive/File_TA_Fiks/\""
      ]
    },
    {
      "cell_type": "code",
      "execution_count": null,
      "metadata": {
        "id": "wFoK-gydZSFH"
      },
      "outputs": [],
      "source": [
        "# from google.colab import files\n",
        "# files.download(\"/content/Datalabel.csv\")"
      ]
    },
    {
      "cell_type": "markdown",
      "metadata": {
        "id": "lAfNHo-ha0bm"
      },
      "source": [
        "# **Visualisasi**"
      ]
    },
    {
      "cell_type": "code",
      "execution_count": null,
      "metadata": {
        "id": "5ynZKH4Iav8w"
      },
      "outputs": [],
      "source": [
        "import pandas as pd\n",
        "import matplotlib.pyplot as plt\n",
        "import seaborn as sns"
      ]
    },
    {
      "cell_type": "code",
      "execution_count": null,
      "metadata": {
        "colab": {
          "base_uri": "https://localhost:8080/"
        },
        "id": "sKXmSdvba6LT",
        "outputId": "d3faabf2-3ffa-4abf-c386-36e968fa2a2d"
      },
      "outputs": [
        {
          "output_type": "stream",
          "name": "stdout",
          "text": [
            "                                    preprocessed_text     label\n",
            "0   profil dito ariotedjo menteri pemuda olahraga ...  negative\n",
            "1   hari kerja ahy atas deret menteri citra menter...   neutral\n",
            "2   saksi menit sama kabinet merah putih utakatik ...  negative\n",
            "3   presiden prabowo instruksi jajar kabinet merah...  negative\n",
            "4   presiden ri prabowo subianto minta jajar kabin...   neutral\n",
            "5   profil agus gumiwang kartasasmita menteri indu...  negative\n",
            "6   kpk apresiasi patuh lhkpn kabinet merah putih ...  positive\n",
            "7   presiden ri prabowo subianto beri arah kabinet...  negative\n",
            "8   menteri kabinet merah putih kerja buruk hari k...  negative\n",
            "9   utakatik strategi biaya haji menit sama kabine...  positive\n",
            "10  mulia mr mohon segera ganti wakil wakil rakyat...  negative\n",
            "11  prabowo lalu instruksi menteri kepala lembaga ...  negative\n",
            "12  hari kabinet merah putih mayoritas rakyat rasa...  negative\n",
            "13  komisi berantas korupsi kpk rilis lapor harta ...  positive\n",
            "14  daftar menteri kerja buruk hingga muncul isu r...  negative\n",
            "15  menteri pariwisata widiyanti putri wardhana ja...  negative\n",
            "16  isu reshuffle kabinet merah putih hari kerja p...  negative\n",
            "17  pesan emil salam prabowo minta kabinet merah p...  negative\n",
            "18  menteri kabinet merah putih kerja baik hari ke...   neutral\n",
            "19  presiden prabowo subianto titip pesan soal tel...  negative\n"
          ]
        }
      ],
      "source": [
        "# Membaca dataset\n",
        "file_path = '/content/drive/MyDrive/File_TA_Fiks/Label_lexicon.csv'\n",
        "df = pd.read_csv(file_path)\n",
        "\n",
        "# Menampilkan 5 baris pertama dataset untuk memastikan kolom 'Sentimen' ada\n",
        "print(df.head(20))"
      ]
    },
    {
      "cell_type": "code",
      "execution_count": null,
      "metadata": {
        "colab": {
          "base_uri": "https://localhost:8080/"
        },
        "id": "xNcq5iKlbWoH",
        "outputId": "6abf1fd1-9faa-4d80-cbc8-68110c8c2d4c"
      },
      "outputs": [
        {
          "output_type": "stream",
          "name": "stdout",
          "text": [
            "Kolom dalam dataset: Index(['preprocessed_text', 'label'], dtype='object')\n"
          ]
        }
      ],
      "source": [
        "# Menampilkan nama kolom untuk memastikan 'sentimen' ada\n",
        "print(\"Kolom dalam dataset:\", df.columns)"
      ]
    },
    {
      "cell_type": "code",
      "execution_count": null,
      "metadata": {
        "colab": {
          "base_uri": "https://localhost:8080/"
        },
        "id": "j7-8j5t5bfVF",
        "outputId": "d0a7d9a1-658f-473a-a606-5a9fbc77c343"
      },
      "outputs": [
        {
          "output_type": "stream",
          "name": "stdout",
          "text": [
            "label\n",
            "negative    5273\n",
            "positive    3694\n",
            "neutral     1262\n",
            "Name: count, dtype: int64\n"
          ]
        }
      ],
      "source": [
        "# Menghitung jumlah masing-masing sentimen\n",
        "sentiment_counts = df['label'].value_counts()\n",
        "\n",
        "# Menampilkan hasil perhitungan\n",
        "print(sentiment_counts)"
      ]
    },
    {
      "cell_type": "code",
      "execution_count": null,
      "metadata": {
        "id": "VPp1M_jFbme1"
      },
      "outputs": [],
      "source": [
        "# Menentukan warna sesuai kategori sentimen\n",
        "color_mapping = {'negative': 'pink', 'neutral': 'cyan', 'positive': 'gray'}\n",
        "colors = [color_mapping[label] for label in sentiment_counts.index if label in color_mapping]"
      ]
    },
    {
      "cell_type": "code",
      "execution_count": null,
      "metadata": {
        "colab": {
          "base_uri": "https://localhost:8080/",
          "height": 598
        },
        "id": "Pe0kVCjwbtnC",
        "outputId": "76e8837f-d2ae-4358-b355-6b8f8057d970"
      },
      "outputs": [
        {
          "output_type": "display_data",
          "data": {
            "text/plain": [
              "<Figure size 700x700 with 1 Axes>"
            ],
            "image/png": "[encoded data removed]"
          },
          "metadata": {}
        }
      ],
      "source": [
        "# Membuat Pie Chart\n",
        "plt.figure(figsize=(7, 7))\n",
        "\n",
        "plt.pie(sentiment_counts.values, labels=sentiment_counts.index, autopct='%1.1f%%',\n",
        "        colors=colors, shadow=False, startangle=140)\n",
        "\n",
        "plt.title('Distribusi Sentimen')\n",
        "plt.axis('equal')  # Agar pie chart berbentuk lingkaran\n",
        "plt.show()"
      ]
    },
    {
      "cell_type": "code",
      "execution_count": null,
      "metadata": {
        "colab": {
          "base_uri": "https://localhost:8080/",
          "height": 487
        },
        "id": "1bWD4ndqb4ik",
        "outputId": "b7b3b60a-aea9-4853-da3b-09cd60f1d985"
      },
      "outputs": [
        {
          "output_type": "display_data",
          "data": {
            "text/plain": [
              "<Figure size 700x500 with 1 Axes>"
            ],
            "image/png": "[encoded data removed]"
          },
          "metadata": {}
        }
      ],
      "source": [
        "# Membuat Bar Plot\n",
        "plt.figure(figsize=(7, 5))\n",
        "plt.bar(sentiment_counts.index, sentiment_counts.values, color=[color_mapping[label] for label in sentiment_counts.index])\n",
        "plt.xlabel('Kategori Sentimen')\n",
        "plt.ylabel('Jumlah')\n",
        "plt.title('Jumlah Sentimen dalam Dataset')\n",
        "plt.show()"
      ]
    }
  ],
  "metadata": {
    "colab": {
      "provenance": []
    },
    "kernelspec": {
      "display_name": "Python 3",
      "name": "python3"
    },
    "language_info": {
      "name": "python"
    }
  },
  "nbformat": 4,
  "nbformat_minor": 0
}