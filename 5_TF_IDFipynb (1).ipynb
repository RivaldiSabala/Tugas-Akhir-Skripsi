{
  "nbformat": 4,
  "nbformat_minor": 0,
  "metadata": {
    "colab": {
      "provenance": []
    },
    "kernelspec": {
      "name": "python3",
      "display_name": "Python 3"
    },
    "language_info": {
      "name": "python"
    }
  },
  "cells": [
    {
      "cell_type": "code",
      "execution_count": null,
      "metadata": {
        "id": "92elArjdtxcV"
      },
      "outputs": [],
      "source": [
        "import pandas as pd\n",
        "import numpy as np\n",
        "from sklearn.feature_extraction.text import TfidfVectorizer\n",
        "from scipy import sparse\n",
        "import matplotlib.pyplot as plt\n",
        "import re\n",
        "import joblib\n",
        "from google.colab import drive"
      ]
    },
    {
      "cell_type": "code",
      "source": [
        "# Mount Google Drive\n",
        "drive.mount('/content/drive')"
      ],
      "metadata": {
        "colab": {
          "base_uri": "https://localhost:8080/"
        },
        "id": "n1cI44nvuD3F",
        "outputId": "16aa0329-92b9-496d-f300-e793a89053d1"
      },
      "execution_count": null,
      "outputs": [
        {
          "output_type": "stream",
          "name": "stdout",
          "text": [
            "Mounted at /content/drive\n"
          ]
        }
      ]
    },
    {
      "cell_type": "code",
      "source": [
        "file_path = ('/content/drive/MyDrive/File_TA_Fiks/Label_lexicon.csv')\n",
        "df = pd.read_csv(file_path)\n",
        "df.head()"
      ],
      "metadata": {
        "colab": {
          "base_uri": "https://localhost:8080/",
          "height": 206
        },
        "id": "Zm7fGfv8uHDM",
        "outputId": "8ee6109e-d6a2-4de7-88d4-56b0b2909d30"
      },
      "execution_count": null,
      "outputs": [
        {
          "output_type": "execute_result",
          "data": {
            "text/plain": [
              "                                   preprocessed_text     label\n",
              "0  profil dito ariotedjo menteri pemuda olahraga ...  negative\n",
              "1  hari kerja ahy atas deret menteri citra menter...   neutral\n",
              "2  saksi menit sama kabinet merah putih utakatik ...  negative\n",
              "3  presiden prabowo instruksi jajar kabinet merah...  negative\n",
              "4  presiden ri prabowo subianto minta jajar kabin...   neutral"
            ],
            "text/html": [
              "\n",
              "  <div id=\"df-626dfe71-eb63-4b4e-a143-bda16a957dcc\" class=\"colab-df-container\">\n",
              "    <div>\n",
              "<style scoped>\n",
              "    .dataframe tbody tr th:only-of-type {\n",
              "        vertical-align: middle;\n",
              "    }\n",
              "\n",
              "    .dataframe tbody tr th {\n",
              "        vertical-align: top;\n",
              "    }\n",
              "\n",
              "    .dataframe thead th {\n",
              "        text-align: right;\n",
              "    }\n",
              "</style>\n",
              "<table border=\"1\" class=\"dataframe\">\n",
              "  <thead>\n",
              "    <tr style=\"text-align: right;\">\n",
              "      <th></th>\n",
              "      <th>preprocessed_text</th>\n",
              "      <th>label</th>\n",
              "    </tr>\n",
              "  </thead>\n",
              "  <tbody>\n",
              "    <tr>\n",
              "      <th>0</th>\n",
              "      <td>profil dito ariotedjo menteri pemuda olahraga ...</td>\n",
              "      <td>negative</td>\n",
              "    </tr>\n",
              "    <tr>\n",
              "      <th>1</th>\n",
              "      <td>hari kerja ahy atas deret menteri citra menter...</td>\n",
              "      <td>neutral</td>\n",
              "    </tr>\n",
              "    <tr>\n",
              "      <th>2</th>\n",
              "      <td>saksi menit sama kabinet merah putih utakatik ...</td>\n",
              "      <td>negative</td>\n",
              "    </tr>\n",
              "    <tr>\n",
              "      <th>3</th>\n",
              "      <td>presiden prabowo instruksi jajar kabinet merah...</td>\n",
              "      <td>negative</td>\n",
              "    </tr>\n",
              "    <tr>\n",
              "      <th>4</th>\n",
              "      <td>presiden ri prabowo subianto minta jajar kabin...</td>\n",
              "      <td>neutral</td>\n",
              "    </tr>\n",
              "  </tbody>\n",
              "</table>\n",
              "</div>\n",
              "    <div class=\"colab-df-buttons\">\n",
              "\n",
              "  <div class=\"colab-df-container\">\n",
              "    <button class=\"colab-df-convert\" onclick=\"convertToInteractive('df-626dfe71-eb63-4b4e-a143-bda16a957dcc')\"\n",
              "            title=\"Convert this dataframe to an interactive table.\"\n",
              "            style=\"display:none;\">\n",
              "\n",
              "  <svg xmlns=\"http://www.w3.org/2000/svg\" height=\"24px\" viewBox=\"0 -960 960 960\">\n",
              "    <path d=\"M120-120v-720h720v720H120Zm60-500h600v-160H180v160Zm220 220h160v-160H400v160Zm0 220h160v-160H400v160ZM180-400h160v-160H180v160Zm440 0h160v-160H620v160ZM180-180h160v-160H180v160Zm440 0h160v-160H620v160Z\"/>\n",
              "  </svg>\n",
              "    </button>\n",
              "\n",
              "  <style>\n",
              "    .colab-df-container {\n",
              "      display:flex;\n",
              "      gap: 12px;\n",
              "    }\n",
              "\n",
              "    .colab-df-convert {\n",
              "      background-color: #E8F0FE;\n",
              "      border: none;\n",
              "      border-radius: 50%;\n",
              "      cursor: pointer;\n",
              "      display: none;\n",
              "      fill: #1967D2;\n",
              "      height: 32px;\n",
              "      padding: 0 0 0 0;\n",
              "      width: 32px;\n",
              "    }\n",
              "\n",
              "    .colab-df-convert:hover {\n",
              "      background-color: #E2EBFA;\n",
              "      box-shadow: 0px 1px 2px rgba(60, 64, 67, 0.3), 0px 1px 3px 1px rgba(60, 64, 67, 0.15);\n",
              "      fill: #174EA6;\n",
              "    }\n",
              "\n",
              "    .colab-df-buttons div {\n",
              "      margin-bottom: 4px;\n",
              "    }\n",
              "\n",
              "    [theme=dark] .colab-df-convert {\n",
              "      background-color: #3B4455;\n",
              "      fill: #D2E3FC;\n",
              "    }\n",
              "\n",
              "    [theme=dark] .colab-df-convert:hover {\n",
              "      background-color: #434B5C;\n",
              "      box-shadow: 0px 1px 3px 1px rgba(0, 0, 0, 0.15);\n",
              "      filter: drop-shadow(0px 1px 2px rgba(0, 0, 0, 0.3));\n",
              "      fill: #FFFFFF;\n",
              "    }\n",
              "  </style>\n",
              "\n",
              "    <script>\n",
              "      const buttonEl =\n",
              "        document.querySelector('#df-626dfe71-eb63-4b4e-a143-bda16a957dcc button.colab-df-convert');\n",
              "      buttonEl.style.display =\n",
              "        google.colab.kernel.accessAllowed ? 'block' : 'none';\n",
              "\n",
              "      async function convertToInteractive(key) {\n",
              "        const element = document.querySelector('#df-626dfe71-eb63-4b4e-a143-bda16a957dcc');\n",
              "        const dataTable =\n",
              "          await google.colab.kernel.invokeFunction('convertToInteractive',\n",
              "                                                    [key], {});\n",
              "        if (!dataTable) return;\n",
              "\n",
              "        const docLinkHtml = 'Like what you see? Visit the ' +\n",
              "          '<a target=\"_blank\" href=https://colab.research.google.com/notebooks/data_table.ipynb>data table notebook</a>'\n",
              "          + ' to learn more about interactive tables.';\n",
              "        element.innerHTML = '';\n",
              "        dataTable['output_type'] = 'display_data';\n",
              "        await google.colab.output.renderOutput(dataTable, element);\n",
              "        const docLink = document.createElement('div');\n",
              "        docLink.innerHTML = docLinkHtml;\n",
              "        element.appendChild(docLink);\n",
              "      }\n",
              "    </script>\n",
              "  </div>\n",
              "\n",
              "\n",
              "    <div id=\"df-e9c84167-e7c2-4575-9ca4-70bdba055be6\">\n",
              "      <button class=\"colab-df-quickchart\" onclick=\"quickchart('df-e9c84167-e7c2-4575-9ca4-70bdba055be6')\"\n",
              "                title=\"Suggest charts\"\n",
              "                style=\"display:none;\">\n",
              "\n",
              "<svg xmlns=\"http://www.w3.org/2000/svg\" height=\"24px\"viewBox=\"0 0 24 24\"\n",
              "     width=\"24px\">\n",
              "    <g>\n",
              "        <path d=\"M19 3H5c-1.1 0-2 .9-2 2v14c0 1.1.9 2 2 2h14c1.1 0 2-.9 2-2V5c0-1.1-.9-2-2-2zM9 17H7v-7h2v7zm4 0h-2V7h2v10zm4 0h-2v-4h2v4z\"/>\n",
              "    </g>\n",
              "</svg>\n",
              "      </button>\n",
              "\n",
              "<style>\n",
              "  .colab-df-quickchart {\n",
              "      --bg-color: #E8F0FE;\n",
              "      --fill-color: #1967D2;\n",
              "      --hover-bg-color: #E2EBFA;\n",
              "      --hover-fill-color: #174EA6;\n",
              "      --disabled-fill-color: #AAA;\n",
              "      --disabled-bg-color: #DDD;\n",
              "  }\n",
              "\n",
              "  [theme=dark] .colab-df-quickchart {\n",
              "      --bg-color: #3B4455;\n",
              "      --fill-color: #D2E3FC;\n",
              "      --hover-bg-color: #434B5C;\n",
              "      --hover-fill-color: #FFFFFF;\n",
              "      --disabled-bg-color: #3B4455;\n",
              "      --disabled-fill-color: #666;\n",
              "  }\n",
              "\n",
              "  .colab-df-quickchart {\n",
              "    background-color: var(--bg-color);\n",
              "    border: none;\n",
              "    border-radius: 50%;\n",
              "    cursor: pointer;\n",
              "    display: none;\n",
              "    fill: var(--fill-color);\n",
              "    height: 32px;\n",
              "    padding: 0;\n",
              "    width: 32px;\n",
              "  }\n",
              "\n",
              "  .colab-df-quickchart:hover {\n",
              "    background-color: var(--hover-bg-color);\n",
              "    box-shadow: 0 1px 2px rgba(60, 64, 67, 0.3), 0 1px 3px 1px rgba(60, 64, 67, 0.15);\n",
              "    fill: var(--button-hover-fill-color);\n",
              "  }\n",
              "\n",
              "  .colab-df-quickchart-complete:disabled,\n",
              "  .colab-df-quickchart-complete:disabled:hover {\n",
              "    background-color: var(--disabled-bg-color);\n",
              "    fill: var(--disabled-fill-color);\n",
              "    box-shadow: none;\n",
              "  }\n",
              "\n",
              "  .colab-df-spinner {\n",
              "    border: 2px solid var(--fill-color);\n",
              "    border-color: transparent;\n",
              "    border-bottom-color: var(--fill-color);\n",
              "    animation:\n",
              "      spin 1s steps(1) infinite;\n",
              "  }\n",
              "\n",
              "  @keyframes spin {\n",
              "    0% {\n",
              "      border-color: transparent;\n",
              "      border-bottom-color: var(--fill-color);\n",
              "      border-left-color: var(--fill-color);\n",
              "    }\n",
              "    20% {\n",
              "      border-color: transparent;\n",
              "      border-left-color: var(--fill-color);\n",
              "      border-top-color: var(--fill-color);\n",
              "    }\n",
              "    30% {\n",
              "      border-color: transparent;\n",
              "      border-left-color: var(--fill-color);\n",
              "      border-top-color: var(--fill-color);\n",
              "      border-right-color: var(--fill-color);\n",
              "    }\n",
              "    40% {\n",
              "      border-color: transparent;\n",
              "      border-right-color: var(--fill-color);\n",
              "      border-top-color: var(--fill-color);\n",
              "    }\n",
              "    60% {\n",
              "      border-color: transparent;\n",
              "      border-right-color: var(--fill-color);\n",
              "    }\n",
              "    80% {\n",
              "      border-color: transparent;\n",
              "      border-right-color: var(--fill-color);\n",
              "      border-bottom-color: var(--fill-color);\n",
              "    }\n",
              "    90% {\n",
              "      border-color: transparent;\n",
              "      border-bottom-color: var(--fill-color);\n",
              "    }\n",
              "  }\n",
              "</style>\n",
              "\n",
              "      <script>\n",
              "        async function quickchart(key) {\n",
              "          const quickchartButtonEl =\n",
              "            document.querySelector('#' + key + ' button');\n",
              "          quickchartButtonEl.disabled = true;  // To prevent multiple clicks.\n",
              "          quickchartButtonEl.classList.add('colab-df-spinner');\n",
              "          try {\n",
              "            const charts = await google.colab.kernel.invokeFunction(\n",
              "                'suggestCharts', [key], {});\n",
              "          } catch (error) {\n",
              "            console.error('Error during call to suggestCharts:', error);\n",
              "          }\n",
              "          quickchartButtonEl.classList.remove('colab-df-spinner');\n",
              "          quickchartButtonEl.classList.add('colab-df-quickchart-complete');\n",
              "        }\n",
              "        (() => {\n",
              "          let quickchartButtonEl =\n",
              "            document.querySelector('#df-e9c84167-e7c2-4575-9ca4-70bdba055be6 button');\n",
              "          quickchartButtonEl.style.display =\n",
              "            google.colab.kernel.accessAllowed ? 'block' : 'none';\n",
              "        })();\n",
              "      </script>\n",
              "    </div>\n",
              "\n",
              "    </div>\n",
              "  </div>\n"
            ],
            "application/vnd.google.colaboratory.intrinsic+json": {
              "type": "dataframe",
              "variable_name": "df",
              "summary": "{\n  \"name\": \"df\",\n  \"rows\": 10229,\n  \"fields\": [\n    {\n      \"column\": \"preprocessed_text\",\n      \"properties\": {\n        \"dtype\": \"string\",\n        \"num_unique_values\": 8831,\n        \"samples\": [\n          \"kabinet merah putih fokus daya masyarakat miskinedebiemayain\",\n          \"presiden prabowo subianto resmi lantik kabinet merah putih senin luhut pandjaitan resmi jadi menteri ekonomi nasional jadi menteri koordinator bidang maritim investasi perintah joko widodo prabowo subianto resmi lantik kabinet merah putih senin luhut pandjaitan resmi jadi menteri ekonomi nasional jadi menteri koordinator bidang maritim investasi pemerin\",\n          \"susun kabinet merah putih perintah prabowo subiantogibran rakabuming raka umum jumlah tokoh wanita isi jabat menteri wakil menteri siapa\"\n        ],\n        \"semantic_type\": \"\",\n        \"description\": \"\"\n      }\n    },\n    {\n      \"column\": \"label\",\n      \"properties\": {\n        \"dtype\": \"category\",\n        \"num_unique_values\": 3,\n        \"samples\": [\n          \"negative\",\n          \"neutral\",\n          \"positive\"\n        ],\n        \"semantic_type\": \"\",\n        \"description\": \"\"\n      }\n    }\n  ]\n}"
            }
          },
          "metadata": {},
          "execution_count": 3
        }
      ]
    },
    {
      "cell_type": "code",
      "source": [
        "# Contoh label dan count dari dataframe kamu\n",
        "label_counts = df['label'].value_counts()\n",
        "\n",
        "# Pastikan labels sesuai jumlah unik label\n",
        "labels = label_counts.index\n",
        "counts = label_counts.values\n",
        "\n",
        "# Warna disesuaikan jumlah labels\n",
        "colors = ['blue','aqua','black'][:len(labels)]\n",
        "\n",
        "# Donut chart\n",
        "fig, ax = plt.subplots()\n",
        "wedges, texts, autotexts = ax.pie(\n",
        "    counts,\n",
        "    labels=labels,\n",
        "    colors=colors,\n",
        "    autopct='%1.1f%%',\n",
        "    startangle=90,\n",
        "    wedgeprops=dict(width=0.4)\n",
        ")\n",
        "print(\"Jumlah label positif:\", label_counts.get('positive', 0))\n",
        "print(\"Jumlah label netral:\", label_counts.get('neutral', 0))\n",
        "print(\"Jumlah label negatif:\", label_counts.get('negative', 0))\n",
        "\n",
        "# Tambahkan lingkaran tengah (donut hole)\n",
        "centre_circle = plt.Circle((0,0),0.70,fc='yellow')\n",
        "fig.gca().add_artist(centre_circle)\n",
        "\n",
        "ax.set_title('Proporsi Label Sentimen')\n",
        "plt.setp(autotexts, size=12, weight=\"bold\")\n",
        "plt.axis('equal')  # Circle\n",
        "plt.show()"
      ],
      "metadata": {
        "colab": {
          "base_uri": "https://localhost:8080/",
          "height": 480
        },
        "id": "HQKdt7X54ckb",
        "outputId": "632f9a55-a3fc-4f5e-f2fc-99e3b10fccda"
      },
      "execution_count": null,
      "outputs": [
        {
          "output_type": "stream",
          "name": "stdout",
          "text": [
            "Jumlah label positif: 3694\n",
            "Jumlah label netral: 1262\n",
            "Jumlah label negatif: 5273\n"
          ]
        },
        {
          "output_type": "display_data",
          "data": {
            "text/plain": [
              "<Figure size 640x480 with 1 Axes>"
            ],
            "image/png": "[encoded data removed]"
          },
          "metadata": {}
        }
      ]
    },
    {
      "cell_type": "code",
      "source": [
        "print(\"Label unik:\", df['label'].unique())\n",
        "print(\"Jumlah kelas:\", df['label'].nunique())\n"
      ],
      "metadata": {
        "colab": {
          "base_uri": "https://localhost:8080/"
        },
        "id": "P4GLzN8n2uTD",
        "outputId": "fedeed78-2296-4c4b-bd6c-be626426f20d"
      },
      "execution_count": null,
      "outputs": [
        {
          "output_type": "stream",
          "name": "stdout",
          "text": [
            "Label unik: ['negative' 'neutral' 'positive']\n",
            "Jumlah kelas: 3\n"
          ]
        }
      ]
    },
    {
      "cell_type": "code",
      "source": [
        "# # prompt: buatkan kode untuk melihat label nutral ada di baris keberapa\n",
        "\n",
        "# # Assuming 'df' is your DataFrame and 'label' is the column containing labels\n",
        "# neutral_rows = df[df['label'] == 'nutral']\n",
        "\n",
        "# # Print the index (row number) of rows where the label is 'netral'\n",
        "# print(\"Baris dengan label 'netral':\")\n",
        "# print(neutral_rows.index.tolist())"
      ],
      "metadata": {
        "id": "sYFKKSP12wyN"
      },
      "execution_count": null,
      "outputs": []
    },
    {
      "cell_type": "code",
      "source": [
        "texts = df[\"preprocessed_text\"].astype(str)\n",
        "labels = df[\"label\"].values"
      ],
      "metadata": {
        "id": "gy7JelQSuMgF"
      },
      "execution_count": null,
      "outputs": []
    },
    {
      "cell_type": "code",
      "source": [
        "file_path_kamus = '/content/drive/MyDrive/TugasAkhir/kamuskatabaku.xlsx'\n",
        "kamus_df = pd.read_excel(file_path_kamus)\n",
        "kamus = dict(zip(kamus_df['tidak_baku'], kamus_df['kata_baku']))  # Sesuaikan nama kolom"
      ],
      "metadata": {
        "id": "jJppXIMvQACX"
      },
      "execution_count": null,
      "outputs": []
    },
    {
      "cell_type": "code",
      "source": [
        "def normalisasi_kata(teks):\n",
        "    # Tokenisasi sederhana\n",
        "    tokens = teks.lower().split()\n",
        "    # Ganti dengan kata baku jika ditemukan di kamus\n",
        "    tokens_baku = [kamus.get(token, token) for token in tokens]\n",
        "    return ' '.join(tokens_baku)\n",
        "\n",
        "# 3. Preprocessing teks (misalnya tanpa tanda baca + normalisasi)\n",
        "def preprocess(text):\n",
        "    text = re.sub(r'[^\\w\\s]', '', text.lower())  # Hilangkan tanda baca\n",
        "    text = normalisasi_kata(text)\n",
        "    return text"
      ],
      "metadata": {
        "id": "InREXreBRYtf"
      },
      "execution_count": null,
      "outputs": []
    },
    {
      "cell_type": "code",
      "source": [
        "# 4. Terapkan ke semua teks\n",
        "texts_cleaned = [preprocess(t) for t in texts]"
      ],
      "metadata": {
        "id": "6hfI493IRcm6"
      },
      "execution_count": null,
      "outputs": []
    },
    {
      "cell_type": "code",
      "source": [
        "# Inisialisasi TF-IDF Vectorizer\n",
        "tfidf_vectorizer = TfidfVectorizer(\n",
        "    max_features=5000,      # Gunakan 5000 fitur teratas\n",
        "    ngram_range=(1, 2),     # Gunakan unigram dan bigram\n",
        "    stop_words=None\n",
        ")\n",
        "# Latih vectorizer pada data teks\n",
        "tfidf_vectorizer.fit(texts)\n",
        "\n",
        "# Simpan TfidfVectorizer yang sudah dilatih ke file .pkl\n",
        "joblib.dump(tfidf_vectorizer, '/content/drive/MyDrive/File_TA_Fiks/tfidf_vectorizer.pkl')"
      ],
      "metadata": {
        "colab": {
          "base_uri": "https://localhost:8080/"
        },
        "id": "j7QvZ01GuPgh",
        "outputId": "68d0a3bf-d5f3-44da-b30d-2a6d35405f8c"
      },
      "execution_count": null,
      "outputs": [
        {
          "output_type": "execute_result",
          "data": {
            "text/plain": [
              "['/content/drive/MyDrive/File_TA_Fiks/tfidf_vectorizer.pkl']"
            ]
          },
          "metadata": {},
          "execution_count": 11
        }
      ]
    },
    {
      "cell_type": "code",
      "source": [
        "# Transformasi teks menjadi vektor TF-IDF\n",
        "X_tfidf = tfidf_vectorizer.fit_transform(texts)"
      ],
      "metadata": {
        "id": "hDhD_zQwuVjy"
      },
      "execution_count": null,
      "outputs": []
    },
    {
      "cell_type": "code",
      "source": [
        "# Simpan hasil embedding dan label\n",
        "sparse.save_npz(\"/content/drive/MyDrive/File_TA_Fiks/X_tfidf.npz\", X_tfidf)\n",
        "np.save(\"/content/drive/MyDrive/File_TA_Fiks/y_tfidf.npy\", labels)"
      ],
      "metadata": {
        "id": "PfY8sLJauY9b"
      },
      "execution_count": null,
      "outputs": []
    },
    {
      "cell_type": "code",
      "source": [
        "print(\"TF-IDF embedding dan label berhasil disimpan.\")"
      ],
      "metadata": {
        "colab": {
          "base_uri": "https://localhost:8080/"
        },
        "id": "bQGMsPCgugFZ",
        "outputId": "b35c56c2-1852-423b-8185-3c6e38a77e64"
      },
      "execution_count": null,
      "outputs": [
        {
          "output_type": "stream",
          "name": "stdout",
          "text": [
            "TF-IDF embedding dan label berhasil disimpan.\n"
          ]
        }
      ]
    },
    {
      "cell_type": "code",
      "source": [
        "# Menampilkan beberapa baris pertama dari matriks TF-IDF\n",
        "print(\"Contoh matriks TF-IDF:\")\n",
        "print(X_tfidf[:100].toarray())\n",
        "\n",
        "# Menampilkan nama-nama fitur (kata atau ngram) yang dipelajari oleh vectorizer\n",
        "print(\"\\nNama-nama fitur (kata/ngram):\")\n",
        "print(tfidf_vectorizer.get_feature_names_out()[:20]) # Tampilkan 20 fitur pertama\n",
        "\n",
        "# Menampilkan dimensi matriks TF-IDF\n",
        "print(f\"\\nDimensi matriks TF-IDF: {X_tfidf.shape}\")"
      ],
      "metadata": {
        "id": "2kEfz0D93ZP2",
        "colab": {
          "base_uri": "https://localhost:8080/"
        },
        "outputId": "9a7a9125-1bfb-49ec-af79-df3386330abb"
      },
      "execution_count": null,
      "outputs": [
        {
          "output_type": "stream",
          "name": "stdout",
          "text": [
            "Contoh matriks TF-IDF:\n",
            "[[0. 0. 0. ... 0. 0. 0.]\n",
            " [0. 0. 0. ... 0. 0. 0.]\n",
            " [0. 0. 0. ... 0. 0. 0.]\n",
            " ...\n",
            " [0. 0. 0. ... 0. 0. 0.]\n",
            " [0. 0. 0. ... 0. 0. 0.]\n",
            " [0. 0. 0. ... 0. 0. 0.]]\n",
            "\n",
            "Nama-nama fitur (kata/ngram):\n",
            "['aahmad' 'aahmad tawalla' 'abdi' 'abdul' 'abdul kadir' 'abdul mu'\n",
            " 'abdul muti' 'abdullah' 'abdullah hadir' 'abdurrahman' 'abimanyu' 'acara'\n",
            " 'acara bekal' 'acara deklarasi' 'acara hadir' 'acara hari' 'acara joint'\n",
            " 'acara lantik' 'acara luncur' 'acara national']\n",
            "\n",
            "Dimensi matriks TF-IDF: (10229, 5000)\n"
          ]
        }
      ]
    },
    {
      "cell_type": "code",
      "source": [
        "feature_names = tfidf_vectorizer.get_feature_names_out()"
      ],
      "metadata": {
        "id": "4BGFGgyHPB5y"
      },
      "execution_count": null,
      "outputs": []
    },
    {
      "cell_type": "code",
      "source": [
        "# Jumlah dokumen yang ingin dilihat\n",
        "n_docs = X_tfidf.shape[0]\n",
        "\n",
        "for i in range(min(n_docs, 5)):\n",
        "    row = X_tfidf[i].toarray().flatten()  # Ubah baris i menjadi array 1D\n",
        "    df = pd.DataFrame({'word': feature_names, 'tfidf': row})\n",
        "    df = df[df['tfidf'] > 0].sort_values(by='tfidf', ascending=False)  # Hanya nilai > 0\n",
        "    print(f\"\\n📄 Dokumen ke-{i}: 10 Kata/Ngram Teratas berdasarkan TF-IDF\")\n",
        "    print(df.head(5).to_string(index=False))"
      ],
      "metadata": {
        "colab": {
          "base_uri": "https://localhost:8080/"
        },
        "id": "edTvfL3hPE-I",
        "outputId": "52f097ea-8236-48df-81e8-988926fdfa18"
      },
      "execution_count": null,
      "outputs": [
        {
          "output_type": "stream",
          "name": "stdout",
          "text": [
            "\n",
            "📄 Dokumen ke-0: 10 Kata/Ngram Teratas berdasarkan TF-IDF\n",
            "           word    tfidf\n",
            "      ariotedjo 0.370213\n",
            " dito ariotedjo 0.370213\n",
            "           dito 0.364368\n",
            "pemuda olahraga 0.348067\n",
            " menteri pemuda 0.348067\n",
            "\n",
            "📄 Dokumen ke-1: 10 Kata/Ngram Teratas berdasarkan TF-IDF\n",
            "         word    tfidf\n",
            "        teddy 0.367515\n",
            "          ahy 0.357716\n",
            "        tajuk 0.248817\n",
            "deret menteri 0.227925\n",
            "        citra 0.216332\n",
            "\n",
            "📄 Dokumen ke-2: 10 Kata/Ngram Teratas berdasarkan TF-IDF\n",
            "      word    tfidf\n",
            "  utakatik 0.395727\n",
            "menit sama 0.382631\n",
            "  strategi 0.372174\n",
            "      haji 0.363468\n",
            "     menit 0.354303\n",
            "\n",
            "📄 Dokumen ke-3: 10 Kata/Ngram Teratas berdasarkan TF-IDF\n",
            "              word    tfidf\n",
            "            dukung 0.281432\n",
            "          besar rp 0.243064\n",
            "       gratis mbak 0.240143\n",
            "prioritas nasional 0.240143\n",
            "       gizi gratis 0.220324\n",
            "\n",
            "📄 Dokumen ke-4: 10 Kata/Ngram Teratas berdasarkan TF-IDF\n",
            "          word    tfidf\n",
            "  hemat anggar 0.311018\n",
            "subianto minta 0.295626\n",
            "   minta jajar 0.289680\n",
            "         hemat 0.277100\n",
            "          cara 0.262498\n"
          ]
        }
      ]
    }
  ]
}